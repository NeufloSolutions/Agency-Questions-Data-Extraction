{
 "cells": [
  {
   "cell_type": "code",
   "execution_count": 1,
   "id": "3aa9dde9-6712-4459-beff-db54fefa7913",
   "metadata": {},
   "outputs": [
    {
     "name": "stdout",
     "output_type": "stream",
     "text": [
      "Collecting PyPDF2\n",
      "  Downloading pypdf2-3.0.1-py3-none-any.whl (232 kB)\n",
      "     ---------------------------------------- 0.0/232.6 kB ? eta -:--:--\n",
      "     ----- --------------------------------- 30.7/232.6 kB 1.4 MB/s eta 0:00:01\n",
      "     --------------- ----------------------- 92.2/232.6 kB 1.3 MB/s eta 0:00:01\n",
      "     ---------------------------- --------- 174.1/232.6 kB 1.3 MB/s eta 0:00:01\n",
      "     -------------------------------------- 232.6/232.6 kB 1.6 MB/s eta 0:00:00\n",
      "Collecting pdf2image\n",
      "  Downloading pdf2image-1.16.3-py3-none-any.whl (11 kB)\n",
      "Requirement already satisfied: pillow in c:\\users\\milan\\appdata\\local\\programs\\python\\python311\\lib\\site-packages (from pdf2image) (9.5.0)\n",
      "Installing collected packages: PyPDF2, pdf2image\n",
      "Successfully installed PyPDF2-3.0.1 pdf2image-1.16.3\n"
     ]
    }
   ],
   "source": [
    "!pip install PyPDF2 pdf2image"
   ]
  },
  {
   "cell_type": "code",
   "execution_count": 2,
   "id": "02ac594d-5994-44ae-87ce-da71987d5087",
   "metadata": {},
   "outputs": [],
   "source": [
    "import PyPDF2\n",
    "from pdf2image import convert_from_path"
   ]
  },
  {
   "cell_type": "code",
   "execution_count": 3,
   "id": "110dd6f9-e95f-4b12-9564-33812feb7554",
   "metadata": {},
   "outputs": [],
   "source": [
    "def convert_pdf_to_images(pdf_path, output_folder):\n",
    "    # Read the PDF\n",
    "    with open(pdf_path, 'rb') as file:\n",
    "        reader = PyPDF2.PdfFileReader(file)\n",
    "        num_pages = reader.numPages\n",
    "\n",
    "        # Convert each page to an image\n",
    "        for page_num in range(num_pages):\n",
    "            images = convert_from_path(pdf_path, first_page=page_num+1, last_page=page_num+1)\n",
    "            \n",
    "            # There should be only one image as we're converting one page at a time\n",
    "            image = images[0]\n",
    "            image_path = f\"{output_folder}/page_{page_num + 1}.png\"\n",
    "            image.save(image_path, 'PNG')"
   ]
  },
  {
   "cell_type": "code",
   "execution_count": null,
   "id": "19c0d475-71de-4cfe-924f-53a6ce747264",
   "metadata": {},
   "outputs": [],
   "source": [
    "pdf_path = 'path_to_your_pdf.pdf'\n",
    "output_folder = 'path_to_output_folder'\n",
    "convert_pdf_to_images(pdf_path, output_folder)"
   ]
  }
 ],
 "metadata": {
  "kernelspec": {
   "display_name": "Python 3 (ipykernel)",
   "language": "python",
   "name": "python3"
  },
  "language_info": {
   "codemirror_mode": {
    "name": "ipython",
    "version": 3
   },
   "file_extension": ".py",
   "mimetype": "text/x-python",
   "name": "python",
   "nbconvert_exporter": "python",
   "pygments_lexer": "ipython3",
   "version": "3.11.4"
  }
 },
 "nbformat": 4,
 "nbformat_minor": 5
}
